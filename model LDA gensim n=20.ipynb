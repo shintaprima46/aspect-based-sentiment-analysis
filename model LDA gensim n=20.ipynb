{
 "cells": [
  {
   "cell_type": "code",
   "execution_count": 2,
   "metadata": {},
   "outputs": [],
   "source": [
    "from bs4 import BeautifulSoup as bs\n",
    "import re,csv, os, itertools, pandas as pd,docx2txt\n",
    "from tqdm import tqdm\n",
    "from pattern.web import PDF\n",
    "from nltk.tokenize import RegexpTokenizer\n",
    "from nltk.stem import WordNetLemmatizer\n",
    "from nltk import sent_tokenize, word_tokenize\n",
    "from spacy.lang.id import Indonesian\n",
    "from html import unescape\n",
    "from unidecode import unidecode\n",
    "from bz2 import BZ2File as bz2\n",
    "from textblob import TextBlob\n",
    "import spacy\n",
    "\n",
    "def LoadStopWords(lang):\n",
    "    L = lang.lower().strip()\n",
    "    if L == 'en' or L == 'english' or L == 'inggris':\n",
    "        lemmatizer = WordNetLemmatizer()\n",
    "        stops =  set([t.strip() for t in LoadDocuments(file = 'C:/WinPython_64bit/notebooks/Google-Play-Store-Review-Extractor-master/stopwords_eng.txt')[0]])\n",
    "    elif L == 'id' or L == 'indonesia' or L=='indonesian':\n",
    "        lemmatizer = Indonesian() \n",
    "        stops = set([t.strip() for t in LoadDocuments(file = 'C:/WinPython_64bit/notebooks/Google-Play-Store-Review-Extractor-master/stopwords_id.txt')[0]])\n",
    "    else:\n",
    "        print('Warning, language not recognized. Empty StopWords Given')\n",
    "        stops = set(); lemmatizer = None\n",
    "    return stops, lemmatizer\n",
    "\n",
    "def fixTags(T):\n",
    "    getHashtags = re.compile(r\"#(\\w+)\")\n",
    "    pisahtags = re.compile(r'[A-Z][^A-Z]*')\n",
    "    t = T\n",
    "    tagS = re.findall(getHashtags, T)\n",
    "    for tag in tagS:\n",
    "        proper_words = ' '.join(re.findall(pisahtags, tag))\n",
    "        t = t.replace('#'+tag,proper_words)\n",
    "    return t\n",
    "\n",
    "def readBz2(file):\n",
    "    with bz2(file, \"r\") as bzData:\n",
    "        txt = []\n",
    "        for line in bzData:\n",
    "            try:\n",
    "                txt.append(line.strip().decode('utf-8','replace'))\n",
    "            except:\n",
    "                pass\n",
    "    return ' '.join(txt)\n",
    "\n",
    "def LoadDocuments(dPath=None,types=None, file = None): # types = ['pdf','doc','docx','txt','bz2']\n",
    "    Files, Docs = [], []\n",
    "    if types:\n",
    "        for tipe in types:\n",
    "            Files += crawlFiles(dPath,tipe)\n",
    "    if file:\n",
    "        Files = [file]\n",
    "    if not types and not file: # get all files regardless of their extensions\n",
    "        Files += crawlFiles(dPath)\n",
    "    for f in Files:\n",
    "        if f[-3:].lower()=='pdf':\n",
    "            try:\n",
    "                Docs.append(PDF(f).string)\n",
    "            except:\n",
    "                print('error reading{0}'.format(f))\n",
    "        elif f[-3:].lower()=='txt' or f[-3:].lower()=='dic':\n",
    "            try:\n",
    "                df=open(f,\"r\",encoding=\"utf-8\", errors='replace')\n",
    "                Docs.append(df.readlines());df.close()\n",
    "            except:\n",
    "                print('error reading{0}'.format(f))\n",
    "        elif f[-3:].lower()=='bz2':\n",
    "            try:\n",
    "                Docs.append(readBz2(f))\n",
    "            except:\n",
    "                print('error reading{0}'.format(f))\n",
    "        elif f[-4:].lower()=='docx':\n",
    "            try:\n",
    "                Docs.append(docx2txt.process(f))\n",
    "            except:\n",
    "                print('error reading{0}'.format(f))\n",
    "        elif f[-3:].lower()=='csv':\n",
    "            Docs.append(pd.read_csv(f))\n",
    "        else:\n",
    "            print('Unsupported format {0}'.format(f))\n",
    "    if file:\n",
    "        Docs = Docs[0]\n",
    "    return Docs, Files\n",
    "\n",
    "def DelPic(text): #untuk menghilangkan informasi gambar\n",
    "    D = text.split()\n",
    "    D = [d for d in D if 'pic.twitter.com' not in d]\n",
    "    return ' ' .join(D)\n",
    "\n",
    "def LoadSlang(DirSlang):\n",
    "    Slangs =LoadDocuments(file = DirSlang)\n",
    "    SlangDict={}\n",
    "    for slang in Slangs[0]:\n",
    "        try:\n",
    "            key, value = slang.split(':')\n",
    "            SlangDict[key.strip()] = value.strip()\n",
    "        except:\n",
    "            pass\n",
    "    return SlangDict\n",
    "\n",
    "#POS Tagging\n",
    "from nltk.tag import CRFTagger\n",
    "def postag(text):\n",
    "    #Tokenisasi Data\n",
    "    tokenized_sents = word_tokenize(text)\n",
    "    #pemberian Tag tiap token\n",
    "    ct = CRFTagger()\n",
    "    ct.set_model_file('C:/WinPython_64bit/notebooks/Google-Play-Store-Review-Extractor-master/CRFTagger-1.0/CRFTagger/model/model.txt') \n",
    "    #directorynya disesuaikan meletakan file crfnya, harus download dlu file crfnya\n",
    "    pt = ct.tag(tokenized_sents)\n",
    "    ptN = []\n",
    "    noun = set(['NN','NNP', 'NNS','NNPS'])\n",
    "    tmp = []\n",
    "    for w in pt:\n",
    "        if w[1] in noun:\n",
    "            tmp.append(w[0])\n",
    "    if len(tmp)>0:\n",
    "        ptN.append(' '.join(tmp))\n",
    "    return ' '.join(ptN)\n",
    "\n",
    "def cleanText(T, fix={}, lang = 'id', lemma=None, stops = set(), symbols_remove = False, min_charLen = 0): \n",
    "    # lang & stopS only 2 options : 'en' atau 'id'\n",
    "    # symbols ASCII atau alnum\n",
    "    pattern = re.compile(r'http[s]?://(?:[a-zA-Z]|[0-9]|[$-_@.&+]|[!*\\(\\),]|(?:%[0-9a-fA-F][0-9a-fA-F]))+')\n",
    "    t = re.sub(pattern,' ',T) #remove urls if any\n",
    "    t = DelPic(t)\n",
    "    t = unescape(t) # html entities fix\n",
    "    t = fixTags(t) # fix abcDef\n",
    "    t = t.lower().strip() # lowercase\n",
    "    t = unidecode(t)\n",
    "    t = ''.join(''.join(s)[:2] for _, s in itertools.groupby(t)) # remove repetition\n",
    "    t = sent_tokenize(t) # sentence segmentation. String to list\n",
    "    for i, K in enumerate(t):\n",
    "        if symbols_remove:\n",
    "            K = re.sub(r'[^.,a-zA-Z0-9 \\n\\.]',' ',K)\n",
    "        \n",
    "        cleanList = []\n",
    "        if lang =='en':\n",
    "            listKata = word_tokenize(K) # word tokenize\n",
    "            for token in listKata:\n",
    "                if token in fix.keys():\n",
    "                    token = fix[token]\n",
    "                if lemma:\n",
    "                    token = lemma.lemmatize(token)\n",
    "                if stops:\n",
    "                    if len(token)>=min_charLen and token not in stops:\n",
    "                        cleanList.append(token)\n",
    "                else:\n",
    "                    if len(token)>=min_charLen:\n",
    "                        cleanList.append(token)\n",
    "            t[i] = ' '.join(cleanList)\n",
    "        else:\n",
    "            if lemma:\n",
    "                K = lemma(K)\n",
    "                listKata = [token.text for token in K]\n",
    "            else:\n",
    "                listKata = TextBlob(K).words\n",
    "                \n",
    "            for token in listKata:\n",
    "                if token in fix.keys():\n",
    "                    token = fix[token]\n",
    "                \n",
    "                if lemma:\n",
    "                    token = lemma(token)[0].lemma_\n",
    "                if stops:    \n",
    "                    if len(token)>=min_charLen and token not in stops:\n",
    "                        cleanList.append(token)\n",
    "                else:\n",
    "                    if len(token)>=min_charLen:\n",
    "                        cleanList.append(token)\n",
    "            t[i] = ' '.join(cleanList)\n",
    "    return ' '.join(t) "
   ]
  },
  {
   "cell_type": "code",
   "execution_count": 3,
   "metadata": {},
   "outputs": [
    {
     "name": "stderr",
     "output_type": "stream",
     "text": [
      "c:\\winpython_64bit\\python-3.6.5.amd64\\lib\\site-packages\\gensim\\utils.py:1197: UserWarning: detected Windows; aliasing chunkize to chunkize_serial\n",
      "  warnings.warn(\"detected Windows; aliasing chunkize to chunkize_serial\")\n"
     ]
    }
   ],
   "source": [
    "import re\n",
    "import numpy as np\n",
    "import pandas as pd\n",
    "from pprint import pprint\n",
    "from nltk import sent_tokenize, word_tokenize\n",
    "# Gensim\n",
    "import gensim\n",
    "import gensim.corpora as corpora\n",
    "from gensim.utils import simple_preprocess\n",
    "from gensim.models import CoherenceModel\n",
    "from gensim.models import Phrases\n",
    "from gensim.corpora.dictionary import Dictionary\n",
    "from gensim.models import LdaModel, LdaMulticore\n",
    "# spacy for lemmatization\n",
    "import spacy\n",
    "from gensim import corpora, models\n",
    "\n",
    "# Plotting tools\n",
    "import pyLDAvis\n",
    "import pyLDAvis.gensim  # don't skip this\n",
    "import matplotlib.pyplot as plt\n",
    "%matplotlib inline\n",
    "\n",
    "# Enable logging for gensim - optional\n",
    "import logging\n",
    "logging.basicConfig(format='%(asctime)s : %(levelname)s : %(message)s', level=logging.ERROR)\n",
    "\n",
    "import warnings\n",
    "warnings.filterwarnings(\"ignore\",category=DeprecationWarning)"
   ]
  },
  {
   "cell_type": "code",
   "execution_count": 5,
   "metadata": {},
   "outputs": [],
   "source": [
    "df = pd.read_csv('C:/WinPython_64bit/notebooks/Google-Play-Store-Review-Extractor-master/hasil 2.csv')\n",
    "data=df['Review']\n",
    "listRev = [d for d in df['Review']]"
   ]
  },
  {
   "cell_type": "code",
   "execution_count": 6,
   "metadata": {},
   "outputs": [
    {
     "name": "stderr",
     "output_type": "stream",
     "text": [
      "4425it [00:01, 3888.34it/s]\n"
     ]
    },
    {
     "name": "stdout",
     "output_type": "stream",
     "text": [
      "done!!! 4425 data\n"
     ]
    }
   ],
   "source": [
    "stops, lemmatizer = LoadStopWords(lang='en')\n",
    "Slangs=LoadSlang( 'C:/WinPython_64bit/notebooks/Google-Play-Store-Review-Extractor-master/slang.txt')\n",
    "for i,d in tqdm(enumerate(listRev)):\n",
    "    listRev[i] = cleanText(d,Slangs, lemma=lemmatizer,lang='en', stops = stops, symbols_remove = True, min_charLen =3)\n",
    "print(\"done!!! {0} data\".format(i+1))"
   ]
  },
  {
   "cell_type": "code",
   "execution_count": 7,
   "metadata": {},
   "outputs": [],
   "source": [
    "token = []  \n",
    "for i in listRev: \n",
    "    tokenized_sents = word_tokenize(i) \n",
    "    token.append(tokenized_sents)"
   ]
  },
  {
   "cell_type": "code",
   "execution_count": 8,
   "metadata": {},
   "outputs": [
    {
     "name": "stderr",
     "output_type": "stream",
     "text": [
      "c:\\winpython_64bit\\python-3.6.5.amd64\\lib\\site-packages\\gensim\\models\\phrases.py:494: UserWarning: For a faster implementation, use the gensim.models.phrases.Phraser class\n",
      "  warnings.warn(\"For a faster implementation, use the gensim.models.phrases.Phraser class\")\n"
     ]
    }
   ],
   "source": [
    "# Add bigrams and trigrams to docs (only ones that appear 10 times or more).\n",
    "\n",
    "\n",
    "bigram = Phrases(token, min_count=3)\n",
    "trigram = Phrases(bigram[token])\n",
    "\n",
    "bigram_mod = gensim.models.phrases.Phraser(bigram)\n",
    "trigram_mod = gensim.models.phrases.Phraser(trigram)"
   ]
  },
  {
   "cell_type": "code",
   "execution_count": 9,
   "metadata": {},
   "outputs": [],
   "source": [
    "def make_bigrams(texts):\n",
    "    return [bigram_mod[doc] for doc in texts]\n",
    "\n",
    "\n",
    "def make_trigrams(texts):\n",
    "    return [trigram_mod[bigram_mod[doc]] for doc in texts]"
   ]
  },
  {
   "cell_type": "code",
   "execution_count": 10,
   "metadata": {},
   "outputs": [],
   "source": [
    "#Create a Dictionary\n",
    "\n",
    "token_postag = make_bigrams(token)\n",
    "\n",
    "dictionary = Dictionary(token_postag)"
   ]
  },
  {
   "cell_type": "code",
   "execution_count": 11,
   "metadata": {},
   "outputs": [
    {
     "name": "stdout",
     "output_type": "stream",
     "text": [
      "(4425, 327)\n",
      "  (0, 240)\t1\n",
      "  (1, 40)\t1\n",
      "  (1, 151)\t1\n",
      "  (1, 34)\t1\n",
      "  (1, 264)\t1\n",
      "  (2, 76)\t1\n",
      "  (2, 251)\t1\n",
      "  (2, 43)\t1\n",
      "  (2, 280)\t1\n",
      "  (2, 66)\t1\n",
      "  (2, 314)\t1\n",
      "  (5, 201)\t1\n",
      "  (6, 177)\t1\n",
      "  (6, 131)\t1\n",
      "  (6, 310)\t1\n",
      "  (6, 218)\t1\n",
      "  (6, 215)\t1\n",
      "  (7, 310)\t1\n",
      "  (7, 36)\t1\n",
      "  (8, 151)\t1\n",
      "  (8, 303)\t1\n",
      "  (8, 207)\t1\n",
      "  (8, 229)\t1\n",
      "  (10, 108)\t2\n",
      "  (10, 179)\t1\n",
      "  :\t:\n",
      "  (4407, 183)\t1\n",
      "  (4407, 271)\t1\n",
      "  (4408, 135)\t1\n",
      "  (4409, 307)\t1\n",
      "  (4409, 205)\t1\n",
      "  (4410, 140)\t1\n",
      "  (4411, 183)\t1\n",
      "  (4412, 126)\t1\n",
      "  (4412, 193)\t1\n",
      "  (4413, 126)\t1\n",
      "  (4413, 183)\t1\n",
      "  (4414, 183)\t1\n",
      "  (4414, 265)\t1\n",
      "  (4415, 267)\t1\n",
      "  (4415, 89)\t1\n",
      "  (4416, 310)\t1\n",
      "  (4417, 126)\t1\n",
      "  (4417, 263)\t1\n",
      "  (4418, 126)\t1\n",
      "  (4419, 126)\t1\n",
      "  (4420, 126)\t1\n",
      "  (4421, 126)\t1\n",
      "  (4422, 18)\t2\n",
      "  (4423, 158)\t1\n",
      "  (4423, 126)\t1\n"
     ]
    }
   ],
   "source": [
    "from sklearn.feature_extraction.text import TfidfVectorizer,CountVectorizer\n",
    "tf_vectorizer = CountVectorizer(max_df=0.75, min_df=5)\n",
    "document = [' '.join(d) for d in token_postag]\n",
    "tf = tf_vectorizer.fit_transform(document)\n",
    "print(tf.shape)\n",
    "print(tf)"
   ]
  },
  {
   "cell_type": "code",
   "execution_count": 12,
   "metadata": {},
   "outputs": [
    {
     "name": "stdout",
     "output_type": "stream",
     "text": [
      "Jumlah kata Unik: 2030\n",
      "Jumlah dokumen: 4425\n"
     ]
    }
   ],
   "source": [
    "#Vektorisasi Data (Create Corpus)\n",
    "\n",
    "corpus = [dictionary.doc2bow(text) for text in token_postag]\n",
    "print('Jumlah kata Unik: %d' % len(dictionary))\n",
    "print('Jumlah dokumen: %d' % len(document))\n",
    "\n",
    "#Build TF-IDF Model\n",
    "tfidf = models.TfidfModel(corpus)\n",
    "corpus_tfidf = tfidf[corpus]"
   ]
  },
  {
   "cell_type": "code",
   "execution_count": 13,
   "metadata": {},
   "outputs": [],
   "source": [
    "def compute_coherence_values(dictionary, corpus, texts, limit, step, start):\n",
    "    coherence_values = []\n",
    "    model_list = []\n",
    "    for num_topics in range(start, limit, step):\n",
    "        model = LdaModel(corpus=corpus, num_topics=num_topics, id2word=dictionary)\n",
    "        model_list.append(model)\n",
    "        coherencemodel = CoherenceModel(model=model, texts=texts, dictionary=dictionary, coherence='c_v')\n",
    "        coherence_values.append(coherencemodel.get_coherence())\n",
    "\n",
    "    return model_list, coherence_values"
   ]
  },
  {
   "cell_type": "code",
   "execution_count": 20,
   "metadata": {},
   "outputs": [
    {
     "name": "stdout",
     "output_type": "stream",
     "text": [
      "Wall time: 1h 19min 48s\n"
     ]
    }
   ],
   "source": [
    "%%time\n",
    "\n",
    "import warnings\n",
    "warnings.simplefilter(\"ignore\", UserWarning)\n",
    "\n",
    "start, step, limit = 2, 1, 21\n",
    "coherence_val, kCV = [], 10\n",
    "\n",
    "for i in range(kCV):\n",
    "    model_list, coherence_values = compute_coherence_values(dictionary=dictionary, corpus=corpus_tfidf, texts=token_postag, limit=limit,\n",
    "                                                       step = step, start = start)\n",
    "    coherence_val.append(coherence_values)\n",
    "\n",
    "coherence_w = np.mean(np.array(coherence_val),axis = 0)"
   ]
  },
  {
   "cell_type": "code",
   "execution_count": 21,
   "metadata": {},
   "outputs": [
    {
     "data": {
      "image/png": "[encoded data removed]",
      "text/plain": [
       "<Figure size 864x720 with 1 Axes>"
      ]
     },
     "metadata": {},
     "output_type": "display_data"
    }
   ],
   "source": [
    "# Show graph\n",
    "\n",
    "x = range(start, limit, step)\n",
    "\n",
    "plt.figure(figsize=(12,10))\n",
    "\n",
    "for c in coherence_val:\n",
    "    plt.plot(x, c, '--', color = 'lawngreen', linewidth = 2)\n",
    "plt.plot(x, coherence_w, '-', color = 'black', linewidth = 5)\n",
    "plt.xlabel(\"Num Topics\")\n",
    "plt.ylabel(\"Coherence score\")\n",
    "plt.legend((\"coherence_values\"), loc='best')\n",
    "plt.show()"
   ]
  },
  {
   "cell_type": "code",
   "execution_count": 22,
   "metadata": {},
   "outputs": [
    {
     "name": "stdout",
     "output_type": "stream",
     "text": [
      "Num Topics = 2  has Coherence Value of 0.443528\n",
      "Num Topics = 3  has Coherence Value of 0.48033\n",
      "Num Topics = 4  has Coherence Value of 0.517263\n",
      "Num Topics = 5  has Coherence Value of 0.542195\n",
      "Num Topics = 6  has Coherence Value of 0.556021\n",
      "Num Topics = 7  has Coherence Value of 0.564933\n",
      "Num Topics = 8  has Coherence Value of 0.580484\n",
      "Num Topics = 9  has Coherence Value of 0.587019\n",
      "Num Topics = 10  has Coherence Value of 0.59609\n",
      "Num Topics = 11  has Coherence Value of 0.604414\n",
      "Num Topics = 12  has Coherence Value of 0.616883\n",
      "Num Topics = 13  has Coherence Value of 0.609329\n",
      "Num Topics = 14  has Coherence Value of 0.616931\n",
      "Num Topics = 15  has Coherence Value of 0.618823\n",
      "Num Topics = 16  has Coherence Value of 0.622467\n",
      "Num Topics = 17  has Coherence Value of 0.618943\n",
      "Num Topics = 18  has Coherence Value of 0.616177\n",
      "Num Topics = 19  has Coherence Value of 0.617914\n",
      "Num Topics = 20  has Coherence Value of 0.616817\n"
     ]
    }
   ],
   "source": [
    "for m, cv in zip(x, coherence_w):\n",
    "    print(\"Num Topics =\", m, \" has Coherence Value of\", round(cv, 6))"
   ]
  },
  {
   "cell_type": "code",
   "execution_count": 23,
   "metadata": {},
   "outputs": [
    {
     "data": {
      "text/plain": [
       "16"
      ]
     },
     "execution_count": 23,
     "metadata": {},
     "output_type": "execute_result"
    }
   ],
   "source": [
    "# Melihat index yang memiliki nilai terbesar\n",
    "num_topics = np.argmax(coherence_w)+2\n",
    "num_topics"
   ]
  },
  {
   "cell_type": "code",
   "execution_count": 15,
   "metadata": {},
   "outputs": [],
   "source": [
    "#Num topic menyesuaikan hasil dari nilai coherence paling tinggi\n",
    "#LDA Model Gensim\n",
    "num_topics=16\n",
    "optimal_model_gensim = LdaModel(corpus=corpus_tfidf,\n",
    "                 num_topics=num_topics,\n",
    "                 id2word=dictionary,\n",
    "                 per_word_topics=True)"
   ]
  },
  {
   "cell_type": "code",
   "execution_count": 16,
   "metadata": {},
   "outputs": [
    {
     "ename": "AttributeError",
     "evalue": "module 'pyLDAvis' has no attribute 'sklearn'",
     "output_type": "error",
     "traceback": [
      "\u001b[1;31m---------------------------------------------------------------------------\u001b[0m",
      "\u001b[1;31mAttributeError\u001b[0m                            Traceback (most recent call last)",
      "\u001b[1;32m<ipython-input-16-fe7f7e0c7b08>\u001b[0m in \u001b[0;36m<module>\u001b[1;34m()\u001b[0m\n\u001b[0;32m      1\u001b[0m \u001b[0mget_ipython\u001b[0m\u001b[1;33m(\u001b[0m\u001b[1;33m)\u001b[0m\u001b[1;33m.\u001b[0m\u001b[0mrun_line_magic\u001b[0m\u001b[1;33m(\u001b[0m\u001b[1;34m'matplotlib'\u001b[0m\u001b[1;33m,\u001b[0m \u001b[1;34m'inline'\u001b[0m\u001b[1;33m)\u001b[0m\u001b[1;33m\u001b[0m\u001b[0m\n\u001b[0;32m      2\u001b[0m \u001b[1;33m\u001b[0m\u001b[0m\n\u001b[1;32m----> 3\u001b[1;33m \u001b[0mlda_display\u001b[0m \u001b[1;33m=\u001b[0m \u001b[0mpyLDAvis\u001b[0m\u001b[1;33m.\u001b[0m\u001b[0msklearn\u001b[0m\u001b[1;33m.\u001b[0m\u001b[0mprepare\u001b[0m\u001b[1;33m(\u001b[0m\u001b[0moptimal_model_gensim\u001b[0m\u001b[1;33m,\u001b[0m\u001b[0mwiki_tf\u001b[0m\u001b[1;33m,\u001b[0m \u001b[0mtf_vectorizer\u001b[0m\u001b[1;33m,\u001b[0m \u001b[0msort_topics\u001b[0m\u001b[1;33m=\u001b[0m\u001b[1;32mFalse\u001b[0m\u001b[1;33m)\u001b[0m\u001b[1;33m\u001b[0m\u001b[0m\n\u001b[0m\u001b[0;32m      4\u001b[0m \u001b[0mlda_display\u001b[0m\u001b[1;33m\u001b[0m\u001b[0m\n",
      "\u001b[1;31mAttributeError\u001b[0m: module 'pyLDAvis' has no attribute 'sklearn'"
     ]
    }
   ],
   "source": [
    "%matplotlib inline\n",
    "\n",
    "lda_display = pyLDAvis.sklearn.prepare(optimal_model_gensim,wiki_tf, tf_vectorizer, sort_topics=False)\n",
    "lda_display"
   ]
  },
  {
   "cell_type": "code",
   "execution_count": null,
   "metadata": {},
   "outputs": [],
   "source": []
  }
 ],
 "metadata": {
  "kernelspec": {
   "display_name": "Python 3",
   "language": "python",
   "name": "python3"
  },
  "language_info": {
   "codemirror_mode": {
    "name": "ipython",
    "version": 3
   },
   "file_extension": ".py",
   "mimetype": "text/x-python",
   "name": "python",
   "nbconvert_exporter": "python",
   "pygments_lexer": "ipython3",
   "version": "3.6.5"
  }
 },
 "nbformat": 4,
 "nbformat_minor": 2
}
