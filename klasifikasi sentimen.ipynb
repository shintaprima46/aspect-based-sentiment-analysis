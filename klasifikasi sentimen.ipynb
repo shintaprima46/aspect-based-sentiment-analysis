{
 "cells": [
  {
   "cell_type": "code",
   "execution_count": 1,
   "metadata": {},
   "outputs": [],
   "source": [
    "from sklearn.feature_extraction.text import TfidfVectorizer\n",
    "from sklearn.model_selection import train_test_split\n",
    "from sklearn.metrics import accuracy_score,confusion_matrix, classification_report\n",
    "from sklearn.svm import SVC\n",
    "import pandas as pd\n",
    "import pickle\n",
    "from collections import Counter\n",
    "from bs4 import BeautifulSoup as bs\n",
    "import re,csv, os, itertools, pandas as pd,docx2txt\n",
    "from tqdm import tqdm\n",
    "from pattern.web import PDF\n",
    "from nltk.tokenize import RegexpTokenizer\n",
    "from nltk.stem import WordNetLemmatizer\n",
    "from nltk import sent_tokenize, word_tokenize\n",
    "from spacy.lang.id import Indonesian\n",
    "from html import unescape\n",
    "from unidecode import unidecode\n",
    "from bz2 import BZ2File as bz2\n",
    "from textblob import TextBlob\n",
    "import spacy\n",
    "from sklearn.metrics import roc_curve, auc\n",
    "import matplotlib.pyplot as plt\n",
    "from sklearn import metrics\n",
    "from imblearn.over_sampling import RandomOverSampler\n",
    "from sklearn.naive_bayes import GaussianNB, MultinomialNB, BernoulliNB\n",
    "from imblearn.metrics import classification_report_imbalanced\n",
    "from imblearn.under_sampling import RandomUnderSampler\n",
    "from imblearn.combine import SMOTEENN\n",
    "\n",
    "def LoadStopWords(lang):\n",
    "    L = lang.lower().strip()\n",
    "    if L == 'en' or L == 'english' or L == 'inggris':\n",
    "        lemmatizer = WordNetLemmatizer()\n",
    "        stops =  set([t.strip() for t in LoadDocuments(file = 'C:/WinPython_64bit/notebooks/Google-Play-Store-Review-Extractor-master/stopwords_eng.txt')[0]])\n",
    "    elif L == 'id' or L == 'indonesia' or L=='indonesian':\n",
    "        lemmatizer = Indonesian() \n",
    "        stops = set([t.strip() for t in LoadDocuments(file = 'C:/WinPython_64bit/notebooks/Google-Play-Store-Review-Extractor-master/stopwords_id.txt')[0]])\n",
    "    else:\n",
    "        print('Warning, language not recognized. Empty StopWords Given')\n",
    "        stops = set(); lemmatizer = None\n",
    "    return stops, lemmatizer\n",
    "\n",
    "def fixTags(T):\n",
    "    getHashtags = re.compile(r\"#(\\w+)\")\n",
    "    pisahtags = re.compile(r'[A-Z][^A-Z]*')\n",
    "    t = T\n",
    "    tagS = re.findall(getHashtags, T)\n",
    "    for tag in tagS:\n",
    "        proper_words = ' '.join(re.findall(pisahtags, tag))\n",
    "        t = t.replace('#'+tag,proper_words)\n",
    "    return t\n",
    "\n",
    "def readBz2(file):\n",
    "    with bz2(file, \"r\") as bzData:\n",
    "        txt = []\n",
    "        for line in bzData:\n",
    "            try:\n",
    "                txt.append(line.strip().decode('utf-8','replace'))\n",
    "            except:\n",
    "                pass\n",
    "    return ' '.join(txt)\n",
    "\n",
    "def LoadDocuments(dPath=None,types=None, file = None): # types = ['pdf','doc','docx','txt','bz2']\n",
    "    Files, Docs = [], []\n",
    "    if types:\n",
    "        for tipe in types:\n",
    "            Files += crawlFiles(dPath,tipe)\n",
    "    if file:\n",
    "        Files = [file]\n",
    "    if not types and not file: # get all files regardless of their extensions\n",
    "        Files += crawlFiles(dPath)\n",
    "    for f in Files:\n",
    "        if f[-3:].lower()=='pdf':\n",
    "            try:\n",
    "                Docs.append(PDF(f).string)\n",
    "            except:\n",
    "                print('error reading{0}'.format(f))\n",
    "        elif f[-3:].lower()=='txt' or f[-3:].lower()=='dic':\n",
    "            try:\n",
    "                df=open(f,\"r\",encoding=\"utf-8\", errors='replace')\n",
    "                Docs.append(df.readlines());df.close()\n",
    "            except:\n",
    "                print('error reading{0}'.format(f))\n",
    "        elif f[-3:].lower()=='bz2':\n",
    "            try:\n",
    "                Docs.append(readBz2(f))\n",
    "            except:\n",
    "                print('error reading{0}'.format(f))\n",
    "        elif f[-4:].lower()=='docx':\n",
    "            try:\n",
    "                Docs.append(docx2txt.process(f))\n",
    "            except:\n",
    "                print('error reading{0}'.format(f))\n",
    "        elif f[-3:].lower()=='csv':\n",
    "            Docs.append(pd.read_csv(f))\n",
    "        else:\n",
    "            print('Unsupported format {0}'.format(f))\n",
    "    if file:\n",
    "        Docs = Docs[0]\n",
    "    return Docs, Files\n",
    "\n",
    "def DelPic(text): #untuk menghilangkan informasi gambar\n",
    "    D = text.split()\n",
    "    D = [d for d in D if 'pic.twitter.com' not in d]\n",
    "    return ' ' .join(D)\n",
    "\n",
    "def LoadSlang(DirSlang):\n",
    "    Slangs =LoadDocuments(file = DirSlang)\n",
    "    SlangDict={}\n",
    "    for slang in Slangs[0]:\n",
    "        try:\n",
    "            key, value = slang.split(':')\n",
    "            SlangDict[key.strip()] = value.strip()\n",
    "        except:\n",
    "            pass\n",
    "    return SlangDict\n",
    "\n",
    "#POS Tagging\n",
    "from nltk.tag import CRFTagger\n",
    "def postag(text):\n",
    "    #Tokenisasi Data\n",
    "    tokenized_sents = word_tokenize(text)\n",
    "    #pemberian Tag tiap token\n",
    "    ct = CRFTagger()\n",
    "    ct.set_model_file('C:/WinPython_64bit/notebooks/Google-Play-Store-Review-Extractor-master/CRFTagger-1.0/CRFTagger/model/model.txt') \n",
    "    #directorynya disesuaikan meletakan file crfnya, harus download dlu file crfnya\n",
    "    pt = ct.tag(tokenized_sents)\n",
    "    ptN = []\n",
    "    noun = set(['NN','NNP', 'NNS','NNPS'])\n",
    "    tmp = []\n",
    "    for w in pt:\n",
    "        if w[1] in noun:\n",
    "            tmp.append(w[0])\n",
    "    if len(tmp)>0:\n",
    "        ptN.append(' '.join(tmp))\n",
    "    return ' '.join(ptN)\n",
    "\n",
    "def cleanText(T, fix={}, lang = 'id', lemma=None, stops = set(), symbols_remove = False, min_charLen = 0): \n",
    "    # lang & stopS only 2 options : 'en' atau 'id'\n",
    "    # symbols ASCII atau alnum\n",
    "    pattern = re.compile(r'http[s]?://(?:[a-zA-Z]|[0-9]|[$-_@.&+]|[!*\\(\\),]|(?:%[0-9a-fA-F][0-9a-fA-F]))+')\n",
    "    t = re.sub(pattern,' ',T) #remove urls if any\n",
    "    t = DelPic(t)\n",
    "    t = unescape(t) # html entities fix\n",
    "    t = fixTags(t) # fix abcDef\n",
    "    t = t.lower().strip() # lowercase\n",
    "    t = unidecode(t)\n",
    "    t = ''.join(''.join(s)[:2] for _, s in itertools.groupby(t)) # remove repetition\n",
    "    t = sent_tokenize(t) # sentence segmentation. String to list\n",
    "    for i, K in enumerate(t):\n",
    "        if symbols_remove:\n",
    "            K = re.sub(r'[^.,a-zA-Z0-9 \\n\\.]',' ',K)\n",
    "        \n",
    "        cleanList = []\n",
    "        if lang =='en':\n",
    "            listKata = word_tokenize(K) # word tokenize\n",
    "            for token in listKata:\n",
    "                if token in fix.keys():\n",
    "                    token = fix[token]\n",
    "                if lemma:\n",
    "                    token = lemma.lemmatize(token)\n",
    "                if stops:\n",
    "                    if len(token)>=min_charLen and token not in stops:\n",
    "                        cleanList.append(token)\n",
    "                else:\n",
    "                    if len(token)>=min_charLen:\n",
    "                        cleanList.append(token)\n",
    "            t[i] = ' '.join(cleanList)\n",
    "        else:\n",
    "            if lemma:\n",
    "                K = lemma(K)\n",
    "                listKata = [token.text for token in K]\n",
    "            else:\n",
    "                listKata = TextBlob(K).words\n",
    "                \n",
    "            for token in listKata:\n",
    "                if token in fix.keys():\n",
    "                    token = fix[token]\n",
    "                \n",
    "                if lemma:\n",
    "                    token = lemma(token)[0].lemma_\n",
    "                if stops:    \n",
    "                    if len(token)>=min_charLen and token not in stops:\n",
    "                        cleanList.append(token)\n",
    "                else:\n",
    "                    if len(token)>=min_charLen:\n",
    "                        cleanList.append(token)\n",
    "            t[i] = ' '.join(cleanList)\n",
    "    return ' '.join(t) \n",
    "\n",
    "stops, lemmatizer = LoadStopWords(lang='en')\n",
    "Slangs=LoadSlang( 'C:/WinPython_64bit/notebooks/Google-Play-Store-Review-Extractor-master/slang.txt')"
   ]
  },
  {
   "cell_type": "code",
   "execution_count": 2,
   "metadata": {},
   "outputs": [
    {
     "name": "stdout",
     "output_type": "stream",
     "text": [
      "(4425, 318)\n"
     ]
    }
   ],
   "source": [
    "# Membuat VSM \n",
    "data = pd.read_csv('C:/WinPython_64bit/notebooks/Google-Play-Store-Review-Extractor-master/hasil 2.csv')\n",
    "cleanreview = data['Cleaned_review']\n",
    "\n",
    "Tfidf_vectorizer = TfidfVectorizer(max_df=0.75, min_df=5)\n",
    "\n",
    "listdf=cleanreview.values.astype('U')\n",
    "listdf = [d for d in listdf]\n",
    "\n",
    "tfidf = Tfidf_vectorizer.fit_transform(listdf)\n",
    "tfidf_term = Tfidf_vectorizer.get_feature_names()\n",
    "print(tfidf.shape)"
   ]
  },
  {
   "cell_type": "code",
   "execution_count": 3,
   "metadata": {
    "scrolled": true
   },
   "outputs": [
    {
     "name": "stdout",
     "output_type": "stream",
     "text": [
      "(4425, 318)\n"
     ]
    }
   ],
   "source": [
    "# Membuat VSM \n",
    "data = pd.read_csv('C:/WinPython_64bit/notebooks/Google-Play-Store-Review-Extractor-master/hasil 2.csv')\n",
    "cleanreview = data['Cleaned_review']\n",
    "\n",
    "Tfidf_vectorizer = TfidfVectorizer(max_df=0.75, min_df=5)\n",
    "\n",
    "listdf=cleanreview.values.astype('U')\n",
    "listdf = [d for d in listdf]\n",
    "\n",
    "tfidf = Tfidf_vectorizer.fit_transform(listdf)\n",
    "tfidf_term = Tfidf_vectorizer.get_feature_names()\n",
    "\n",
    "# Pkl_Filename = 'tfidf.pkl'\n",
    "# with open(Pkl_Filename, 'wb') as file:  \n",
    "#     pickle.dump(Tfidf_vectorizer, file)\n",
    "# print(Tfidf_vectorizer)\n",
    "\n",
    "# with open(Pkl_Filename, 'rb') as file:  \n",
    "#     vsm = pickle.load(file)\n",
    "# print(vsm)\n",
    "print(tfidf.shape)"
   ]
  },
  {
   "cell_type": "code",
   "execution_count": 4,
   "metadata": {},
   "outputs": [
    {
     "name": "stdout",
     "output_type": "stream",
     "text": [
      "(4425, 318)\n"
     ]
    }
   ],
   "source": [
    "Tfidf_vectorizer = TfidfVectorizer(max_df=0.75, min_df=5)\n",
    "\n",
    "listdf=cleanreview.values.astype('U')\n",
    "listdf = [d for d in listdf]\n",
    "\n",
    "tfidf = Tfidf_vectorizer.fit_transform(listdf)\n",
    "tfidf_term = Tfidf_vectorizer.get_feature_names()\n",
    "print(tfidf.shape)"
   ]
  },
  {
   "cell_type": "code",
   "execution_count": 5,
   "metadata": {},
   "outputs": [
    {
     "data": {
      "text/plain": [
       "Counter({-1: 809, 1: 3616})"
      ]
     },
     "execution_count": 5,
     "metadata": {},
     "output_type": "execute_result"
    }
   ],
   "source": [
    "Counter(data['Sentimen'] )"
   ]
  },
  {
   "cell_type": "code",
   "execution_count": 40,
   "metadata": {},
   "outputs": [],
   "source": [
    "X=tfidf"
   ]
  },
  {
   "cell_type": "code",
   "execution_count": 13,
   "metadata": {},
   "outputs": [],
   "source": [
    "index = [i for i,x in enumerate(listdf)]"
   ]
  },
  {
   "cell_type": "code",
   "execution_count": 86,
   "metadata": {},
   "outputs": [
    {
     "name": "stdout",
     "output_type": "stream",
     "text": [
      "(3097, 318)\n",
      "(1328, 318)\n",
      "(1328,)\n",
      "3097\n",
      "1328\n"
     ]
    }
   ],
   "source": [
    "y = data['Sentimen'] \n",
    "X_train, X_test, y_train, y_test, idx_train, idx_test = train_test_split(X, y, index, test_size=0.3, random_state=0)\n",
    "print(X_train.shape)\n",
    "print(X_test.shape)\n",
    "print(y_test.shape)\n",
    "print(len(idx_train))\n",
    "print(len(idx_test))"
   ]
  },
  {
   "cell_type": "code",
   "execution_count": 87,
   "metadata": {},
   "outputs": [
    {
     "name": "stdout",
     "output_type": "stream",
     "text": [
      "Original Results:               precision    recall  f1-score   support\n",
      "\n",
      "          -1       0.97      0.87      0.92       238\n",
      "           1       0.97      0.99      0.98      1090\n",
      "\n",
      "   micro avg       0.97      0.97      0.97      1328\n",
      "   macro avg       0.97      0.93      0.95      1328\n",
      "weighted avg       0.97      0.97      0.97      1328\n",
      "\n",
      "[[ 208   30]\n",
      " [   6 1084]]\n",
      "Akurasi original test =  0.9728915662650602\n",
      "UnderSampling Results:\n",
      "                    pre       rec       spe        f1       geo       iba       sup\n",
      "\n",
      "         -1       0.82      0.97      0.95      0.88      0.96      0.92       238\n",
      "          1       0.99      0.95      0.97      0.97      0.96      0.92      1090\n",
      "\n",
      "avg / total       0.96      0.95      0.96      0.96      0.96      0.92      1328\n",
      "\n",
      "[[ 230    8]\n",
      " [  52 1038]]\n",
      "Akurasi undersampling test=  0.9548192771084337\n",
      "OverSampling Results:\n",
      "                    pre       rec       spe        f1       geo       iba       sup\n",
      "\n",
      "         -1       0.85      0.98      0.96      0.91      0.97      0.95       238\n",
      "          1       1.00      0.96      0.98      0.98      0.97      0.95      1090\n",
      "\n",
      "avg / total       0.97      0.97      0.98      0.97      0.97      0.95      1328\n",
      "\n",
      "[[ 234    4]\n",
      " [  40 1050]]\n",
      "Akurasi oversampling test =  0.9668674698795181\n",
      "Combination Results:\n",
      "                    pre       rec       spe        f1       geo       iba       sup\n",
      "\n",
      "         -1       0.82      0.97      0.95      0.88      0.96      0.92       238\n",
      "          1       0.99      0.95      0.97      0.97      0.96      0.92      1090\n",
      "\n",
      "avg / total       0.96      0.95      0.96      0.96      0.96      0.92      1328\n",
      "\n",
      "[[ 230    8]\n",
      " [  52 1038]]\n",
      "Akurasi combination =  0.9548192771084337\n"
     ]
    }
   ],
   "source": [
    "# bandingkan dengan hasil original dengan undersampling dan oversampling\n",
    "bnb = BernoulliNB()\n",
    "bnb.fit(X_train, y_train)\n",
    "y_bnb = bnb.predict(X_test); del bnb\n",
    "print('Original Results:',classification_report(y_test, y_bnb))\n",
    "print(confusion_matrix(y_test, y_bnb))\n",
    "print('Akurasi original test = ', accuracy_score(y_test, y_bnb))\n",
    "\n",
    "#undersampling\n",
    "rm = RandomUnderSampler(random_state=1)\n",
    "X_rm, y_rm = rm.fit_resample(X_train, y_train)\n",
    "bnb = BernoulliNB()\n",
    "bnb.fit(X_rm, y_rm)\n",
    "y_bnb = bnb.predict(X_test); del bnb\n",
    "print('UnderSampling Results:\\n',classification_report_imbalanced(y_test, y_bnb))\n",
    "print(confusion_matrix(y_test, y_bnb))\n",
    "print('Akurasi undersampling test= ', accuracy_score(y_test, y_bnb))\n",
    "\n",
    "#oversampling\n",
    "ros = RandomOverSampler(random_state=1)\n",
    "X_ros, y_ros = ros.fit_resample(X_train, y_train)\n",
    "bnb = BernoulliNB()\n",
    "bnb.fit(X_ros, y_ros)\n",
    "y_bnb = bnb.predict(X_test); del bnb\n",
    "print('OverSampling Results:\\n',classification_report_imbalanced(y_test, y_bnb))\n",
    "print(confusion_matrix(y_test, y_bnb))\n",
    "print('Akurasi oversampling test = ', accuracy_score(y_test, y_bnb))\n",
    "\n",
    "#both\n",
    "smt = SMOTEENN(ratio='auto')\n",
    "X_smt, y_smt = smt.fit_resample(X_train, y_train)\n",
    "bnb = BernoulliNB()\n",
    "bnb.fit(X_rm, y_rm)\n",
    "y_bnb = bnb.predict(X_test); del bnb\n",
    "print('Combination Results:\\n',classification_report_imbalanced(y_test, y_bnb))\n",
    "print(confusion_matrix(y_test, y_bnb))\n",
    "print('Akurasi combination = ', accuracy_score(y_test, y_bnb))"
   ]
  },
  {
   "cell_type": "code",
   "execution_count": 88,
   "metadata": {
    "scrolled": true
   },
   "outputs": [
    {
     "data": {
      "image/png": "[encoded data removed]",
      "text/plain": [
       "<Figure size 720x504 with 1 Axes>"
      ]
     },
     "metadata": {},
     "output_type": "display_data"
    }
   ],
   "source": [
    "#probs sebelum resampling\n",
    "bnb = BernoulliNB()\n",
    "bnb.fit(X_train.toarray(), y_train)\n",
    "probs_bnb = bern.predict_proba(X_test)\n",
    "probs_bnb = probs_bnb[:, 1]\n",
    "fpr, tpr, thresholds = roc_curve(y_test, probs_bnb)\n",
    "roc_auc = auc(fpr, tpr)\n",
    "\n",
    "#probs dari undersampling\n",
    "bnb.fit(X_rm, y_rm)\n",
    "probs_rm_bnb = bnb.predict_proba(X_test)\n",
    "probs_rm_bnb = probs_rm_bnb[:, 1]\n",
    "fpr, tpr, thresholds = roc_curve(y_test, probs_rm_bnb)\n",
    "roc_auc = auc(fpr, tpr)\n",
    "\n",
    "#probs oversampling\n",
    "bnb.fit(X_ros, y_ros)\n",
    "probs_ros_bnb = bnb.predict_proba(X_test)\n",
    "probs_ros_bnb = probs_ros_bnb[:, 1]\n",
    "fpr, tpr, thresholds = roc_curve(y_test, probs_ros_bnb)\n",
    "roc_auc = auc(fpr, tpr)\n",
    "\n",
    "#probs both sampling\n",
    "bnb.fit(X_smt, y_smt)\n",
    "probs_smt_bnb = bnb.predict_proba(X_test)\n",
    "probs_smt_bnb = probs_smt_bnb[:, 1]\n",
    "fpr, tpr, thresholds = roc_curve(y_test, probs_smt_bnb)\n",
    "roc_auc = auc(fpr, tpr)\n",
    "\n",
    "probsNB=[probs_bnb, probs_rm_bnb, probs_ros_bnb, probs_smt_bnb]\n",
    "models=[\"BNB sebelum sampling\", \"BNB undersampling\", \"BNB oversampling\", \"BNB SMOTEENN\"]\n",
    "\n",
    "plt.figure(figsize=(10,7))\n",
    "for idx,m in enumerate(models):\n",
    "    \n",
    "# Compute False postive rate, and True positive rate\n",
    "    fpr, tpr, thresholds = metrics.roc_curve(y_test, probsNB[idx])\n",
    "# Calculate Area under the curve to display on the plot\n",
    "    roc_auc = auc(fpr, tpr)\n",
    "# Now, plot the computed values\n",
    "    plt.plot(fpr, tpr, label='%s ROC (AUC = %0.2f)' % (m, roc_auc))\n",
    "# Custom settings for the plot \n",
    "plt.plot([0, 1], [0, 1],'r--')\n",
    "plt.xlim([0.0, 1.0])\n",
    "plt.ylim([0.0, 1.05])\n",
    "plt.xlabel('1-Specificity(False Positive Rate)')\n",
    "plt.ylabel('Sensitivity(True Positive Rate)')\n",
    "plt.title('Receiver Operating Characteristic')\n",
    "plt.legend(loc=\"lower right\")\n",
    "plt.show()   # Display"
   ]
  },
  {
   "cell_type": "code",
   "execution_count": 97,
   "metadata": {},
   "outputs": [
    {
     "ename": "KeyError",
     "evalue": "0",
     "output_type": "error",
     "traceback": [
      "\u001b[1;31m---------------------------------------------------------------------------\u001b[0m",
      "\u001b[1;31mKeyError\u001b[0m                                  Traceback (most recent call last)",
      "\u001b[1;32m<ipython-input-97-584e85df76d9>\u001b[0m in \u001b[0;36m<module>\u001b[1;34m()\u001b[0m\n\u001b[0;32m      1\u001b[0m \u001b[0mpredictions\u001b[0m \u001b[1;33m=\u001b[0m \u001b[0mbnb\u001b[0m\u001b[1;33m.\u001b[0m\u001b[0mpredict\u001b[0m\u001b[1;33m(\u001b[0m\u001b[0mX_test\u001b[0m\u001b[1;33m)\u001b[0m\u001b[1;33m\u001b[0m\u001b[0m\n\u001b[0;32m      2\u001b[0m \u001b[1;32mfor\u001b[0m \u001b[0mi\u001b[0m \u001b[1;32min\u001b[0m \u001b[0mrange\u001b[0m\u001b[1;33m(\u001b[0m\u001b[1;36m0\u001b[0m\u001b[1;33m,\u001b[0m\u001b[1;36m5\u001b[0m\u001b[1;33m)\u001b[0m\u001b[1;33m:\u001b[0m\u001b[1;33m\u001b[0m\u001b[0m\n\u001b[1;32m----> 3\u001b[1;33m     \u001b[0mprint\u001b[0m\u001b[1;33m(\u001b[0m\u001b[0mlistdf\u001b[0m\u001b[1;33m[\u001b[0m\u001b[0mi\u001b[0m\u001b[1;33m]\u001b[0m\u001b[1;33m,\u001b[0m\u001b[0mpredictions\u001b[0m\u001b[1;33m[\u001b[0m\u001b[0mi\u001b[0m\u001b[1;33m]\u001b[0m\u001b[1;33m,\u001b[0m\u001b[0my_test\u001b[0m\u001b[1;33m[\u001b[0m\u001b[0mi\u001b[0m\u001b[1;33m]\u001b[0m\u001b[1;33m)\u001b[0m\u001b[1;33m\u001b[0m\u001b[0m\n\u001b[0m\u001b[0;32m      4\u001b[0m \u001b[1;31m#[print(listdf[i], predictions[i], y_test[i]) for i in range(0, 5)]\u001b[0m\u001b[1;33m\u001b[0m\u001b[1;33m\u001b[0m\u001b[0m\n",
      "\u001b[1;32mc:\\winpython_64bit\\python-3.6.5.amd64\\lib\\site-packages\\pandas\\core\\series.py\u001b[0m in \u001b[0;36m__getitem__\u001b[1;34m(self, key)\u001b[0m\n\u001b[0;32m    765\u001b[0m         \u001b[0mkey\u001b[0m \u001b[1;33m=\u001b[0m \u001b[0mcom\u001b[0m\u001b[1;33m.\u001b[0m\u001b[0m_apply_if_callable\u001b[0m\u001b[1;33m(\u001b[0m\u001b[0mkey\u001b[0m\u001b[1;33m,\u001b[0m \u001b[0mself\u001b[0m\u001b[1;33m)\u001b[0m\u001b[1;33m\u001b[0m\u001b[0m\n\u001b[0;32m    766\u001b[0m         \u001b[1;32mtry\u001b[0m\u001b[1;33m:\u001b[0m\u001b[1;33m\u001b[0m\u001b[0m\n\u001b[1;32m--> 767\u001b[1;33m             \u001b[0mresult\u001b[0m \u001b[1;33m=\u001b[0m \u001b[0mself\u001b[0m\u001b[1;33m.\u001b[0m\u001b[0mindex\u001b[0m\u001b[1;33m.\u001b[0m\u001b[0mget_value\u001b[0m\u001b[1;33m(\u001b[0m\u001b[0mself\u001b[0m\u001b[1;33m,\u001b[0m \u001b[0mkey\u001b[0m\u001b[1;33m)\u001b[0m\u001b[1;33m\u001b[0m\u001b[0m\n\u001b[0m\u001b[0;32m    768\u001b[0m \u001b[1;33m\u001b[0m\u001b[0m\n\u001b[0;32m    769\u001b[0m             \u001b[1;32mif\u001b[0m \u001b[1;32mnot\u001b[0m \u001b[0mis_scalar\u001b[0m\u001b[1;33m(\u001b[0m\u001b[0mresult\u001b[0m\u001b[1;33m)\u001b[0m\u001b[1;33m:\u001b[0m\u001b[1;33m\u001b[0m\u001b[0m\n",
      "\u001b[1;32mc:\\winpython_64bit\\python-3.6.5.amd64\\lib\\site-packages\\pandas\\core\\indexes\\base.py\u001b[0m in \u001b[0;36mget_value\u001b[1;34m(self, series, key)\u001b[0m\n\u001b[0;32m   3116\u001b[0m         \u001b[1;32mtry\u001b[0m\u001b[1;33m:\u001b[0m\u001b[1;33m\u001b[0m\u001b[0m\n\u001b[0;32m   3117\u001b[0m             return self._engine.get_value(s, k,\n\u001b[1;32m-> 3118\u001b[1;33m                                           tz=getattr(series.dtype, 'tz', None))\n\u001b[0m\u001b[0;32m   3119\u001b[0m         \u001b[1;32mexcept\u001b[0m \u001b[0mKeyError\u001b[0m \u001b[1;32mas\u001b[0m \u001b[0me1\u001b[0m\u001b[1;33m:\u001b[0m\u001b[1;33m\u001b[0m\u001b[0m\n\u001b[0;32m   3120\u001b[0m             \u001b[1;32mif\u001b[0m \u001b[0mlen\u001b[0m\u001b[1;33m(\u001b[0m\u001b[0mself\u001b[0m\u001b[1;33m)\u001b[0m \u001b[1;33m>\u001b[0m \u001b[1;36m0\u001b[0m \u001b[1;32mand\u001b[0m \u001b[0mself\u001b[0m\u001b[1;33m.\u001b[0m\u001b[0minferred_type\u001b[0m \u001b[1;32min\u001b[0m \u001b[1;33m[\u001b[0m\u001b[1;34m'integer'\u001b[0m\u001b[1;33m,\u001b[0m \u001b[1;34m'boolean'\u001b[0m\u001b[1;33m]\u001b[0m\u001b[1;33m:\u001b[0m\u001b[1;33m\u001b[0m\u001b[0m\n",
      "\u001b[1;32mpandas\\_libs\\index.pyx\u001b[0m in \u001b[0;36mpandas._libs.index.IndexEngine.get_value\u001b[1;34m()\u001b[0m\n",
      "\u001b[1;32mpandas\\_libs\\index.pyx\u001b[0m in \u001b[0;36mpandas._libs.index.IndexEngine.get_value\u001b[1;34m()\u001b[0m\n",
      "\u001b[1;32mpandas\\_libs\\index.pyx\u001b[0m in \u001b[0;36mpandas._libs.index.IndexEngine.get_loc\u001b[1;34m()\u001b[0m\n",
      "\u001b[1;32mpandas\\_libs\\hashtable_class_helper.pxi\u001b[0m in \u001b[0;36mpandas._libs.hashtable.Int64HashTable.get_item\u001b[1;34m()\u001b[0m\n",
      "\u001b[1;32mpandas\\_libs\\hashtable_class_helper.pxi\u001b[0m in \u001b[0;36mpandas._libs.hashtable.Int64HashTable.get_item\u001b[1;34m()\u001b[0m\n",
      "\u001b[1;31mKeyError\u001b[0m: 0"
     ]
    }
   ],
   "source": [
    "predictions = bnb.predict(X_test)\n",
    "for i in range(0,5):\n",
    "    print(listdf[i],predictions[i],y_test[i])\n",
    "#[print(listdf[i], predictions[i], y_test[i]) for i in range(0, 5)]"
   ]
  },
  {
   "cell_type": "code",
   "execution_count": 98,
   "metadata": {},
   "outputs": [
    {
     "ename": "TypeError",
     "evalue": "'int' object is not subscriptable",
     "output_type": "error",
     "traceback": [
      "\u001b[1;31m---------------------------------------------------------------------------\u001b[0m",
      "\u001b[1;31mTypeError\u001b[0m                                 Traceback (most recent call last)",
      "\u001b[1;32m<ipython-input-98-246196eedd47>\u001b[0m in \u001b[0;36m<module>\u001b[1;34m()\u001b[0m\n\u001b[0;32m      1\u001b[0m \u001b[0my_model\u001b[0m\u001b[1;33m,\u001b[0m \u001b[0my_T\u001b[0m \u001b[1;33m=\u001b[0m \u001b[1;33m[\u001b[0m\u001b[1;33m]\u001b[0m\u001b[1;33m,\u001b[0m \u001b[1;33m[\u001b[0m\u001b[1;33m]\u001b[0m\u001b[1;33m\u001b[0m\u001b[0m\n\u001b[0;32m      2\u001b[0m \u001b[1;32mfor\u001b[0m \u001b[0mx\u001b[0m\u001b[1;33m,\u001b[0m\u001b[0my\u001b[0m \u001b[1;32min\u001b[0m \u001b[0mzip\u001b[0m\u001b[1;33m(\u001b[0m\u001b[0my_test\u001b[0m\u001b[1;33m,\u001b[0m\u001b[0mprediction\u001b[0m\u001b[1;33m)\u001b[0m\u001b[1;33m:\u001b[0m\u001b[1;33m\u001b[0m\u001b[0m\n\u001b[1;32m----> 3\u001b[1;33m     \u001b[1;32mif\u001b[0m \u001b[0mx\u001b[0m\u001b[1;33m[\u001b[0m\u001b[1;36m0\u001b[0m\u001b[1;33m]\u001b[0m\u001b[1;33m>\u001b[0m\u001b[0mx\u001b[0m\u001b[1;33m[\u001b[0m\u001b[1;36m1\u001b[0m\u001b[1;33m]\u001b[0m\u001b[1;33m:\u001b[0m\u001b[1;33m\u001b[0m\u001b[0m\n\u001b[0m\u001b[0;32m      4\u001b[0m         \u001b[0my_T\u001b[0m\u001b[1;33m.\u001b[0m\u001b[0mappend\u001b[0m\u001b[1;33m(\u001b[0m\u001b[1;34m'Neg'\u001b[0m\u001b[1;33m)\u001b[0m\u001b[1;33m\u001b[0m\u001b[0m\n\u001b[0;32m      5\u001b[0m     \u001b[1;32melse\u001b[0m\u001b[1;33m:\u001b[0m\u001b[1;33m\u001b[0m\u001b[0m\n",
      "\u001b[1;31mTypeError\u001b[0m: 'int' object is not subscriptable"
     ]
    }
   ],
   "source": [
    "y_model, y_T = [], []\n",
    "for x,y in zip(y_test,prediction):\n",
    "    if x[0]>x[1]:\n",
    "        y_T.append('Neg')\n",
    "    else:\n",
    "        y_T.append('Pos')\n",
    "\n",
    "    if y[0]>y[1]:\n",
    "        y_model.append('Neg')\n",
    "    else:\n",
    "        y_model.append('Pos')\n",
    "print(y_model[:5])\n",
    "print(y_T[:5])"
   ]
  },
  {
   "cell_type": "code",
   "execution_count": 53,
   "metadata": {},
   "outputs": [
    {
     "name": "stdout",
     "output_type": "stream",
     "text": [
      "1328\n",
      "0\n"
     ]
    }
   ],
   "source": [
    "data_test = list(data['Review'][idx_test].values)\n",
    "#labelsentimen_test = list(data['Sentimen'][idx_test].values)\n",
    "sentimen_test = y_DL"
   ]
  },
  {
   "cell_type": "code",
   "execution_count": 52,
   "metadata": {},
   "outputs": [
    {
     "ename": "ValueError",
     "evalue": "arrays must all be same length",
     "output_type": "error",
     "traceback": [
      "\u001b[1;31m---------------------------------------------------------------------------\u001b[0m",
      "\u001b[1;31mValueError\u001b[0m                                Traceback (most recent call last)",
      "\u001b[1;32m<ipython-input-52-b69ec1db4ad9>\u001b[0m in \u001b[0;36m<module>\u001b[1;34m()\u001b[0m\n\u001b[0;32m      1\u001b[0m \u001b[0mdict_tst\u001b[0m \u001b[1;33m=\u001b[0m \u001b[1;33m{\u001b[0m\u001b[1;34m'test_data'\u001b[0m\u001b[1;33m:\u001b[0m \u001b[0mdata_test\u001b[0m\u001b[1;33m,\u001b[0m \u001b[1;34m'hasil_sentimen'\u001b[0m\u001b[1;33m:\u001b[0m\u001b[0msentimen_test\u001b[0m\u001b[1;33m}\u001b[0m\u001b[1;33m\u001b[0m\u001b[0m\n\u001b[1;32m----> 2\u001b[1;33m \u001b[0mprediksi_test\u001b[0m \u001b[1;33m=\u001b[0m \u001b[0mpd\u001b[0m\u001b[1;33m.\u001b[0m\u001b[0mDataFrame\u001b[0m\u001b[1;33m(\u001b[0m\u001b[0mdict_tst\u001b[0m\u001b[1;33m)\u001b[0m\u001b[1;33m\u001b[0m\u001b[0m\n\u001b[0m",
      "\u001b[1;32mc:\\winpython_64bit\\python-3.6.5.amd64\\lib\\site-packages\\pandas\\core\\frame.py\u001b[0m in \u001b[0;36m__init__\u001b[1;34m(self, data, index, columns, dtype, copy)\u001b[0m\n\u001b[0;32m    346\u001b[0m                                  dtype=dtype, copy=copy)\n\u001b[0;32m    347\u001b[0m         \u001b[1;32melif\u001b[0m \u001b[0misinstance\u001b[0m\u001b[1;33m(\u001b[0m\u001b[0mdata\u001b[0m\u001b[1;33m,\u001b[0m \u001b[0mdict\u001b[0m\u001b[1;33m)\u001b[0m\u001b[1;33m:\u001b[0m\u001b[1;33m\u001b[0m\u001b[0m\n\u001b[1;32m--> 348\u001b[1;33m             \u001b[0mmgr\u001b[0m \u001b[1;33m=\u001b[0m \u001b[0mself\u001b[0m\u001b[1;33m.\u001b[0m\u001b[0m_init_dict\u001b[0m\u001b[1;33m(\u001b[0m\u001b[0mdata\u001b[0m\u001b[1;33m,\u001b[0m \u001b[0mindex\u001b[0m\u001b[1;33m,\u001b[0m \u001b[0mcolumns\u001b[0m\u001b[1;33m,\u001b[0m \u001b[0mdtype\u001b[0m\u001b[1;33m=\u001b[0m\u001b[0mdtype\u001b[0m\u001b[1;33m)\u001b[0m\u001b[1;33m\u001b[0m\u001b[0m\n\u001b[0m\u001b[0;32m    349\u001b[0m         \u001b[1;32melif\u001b[0m \u001b[0misinstance\u001b[0m\u001b[1;33m(\u001b[0m\u001b[0mdata\u001b[0m\u001b[1;33m,\u001b[0m \u001b[0mma\u001b[0m\u001b[1;33m.\u001b[0m\u001b[0mMaskedArray\u001b[0m\u001b[1;33m)\u001b[0m\u001b[1;33m:\u001b[0m\u001b[1;33m\u001b[0m\u001b[0m\n\u001b[0;32m    350\u001b[0m             \u001b[1;32mimport\u001b[0m \u001b[0mnumpy\u001b[0m\u001b[1;33m.\u001b[0m\u001b[0mma\u001b[0m\u001b[1;33m.\u001b[0m\u001b[0mmrecords\u001b[0m \u001b[1;32mas\u001b[0m \u001b[0mmrecords\u001b[0m\u001b[1;33m\u001b[0m\u001b[0m\n",
      "\u001b[1;32mc:\\winpython_64bit\\python-3.6.5.amd64\\lib\\site-packages\\pandas\\core\\frame.py\u001b[0m in \u001b[0;36m_init_dict\u001b[1;34m(self, data, index, columns, dtype)\u001b[0m\n\u001b[0;32m    457\u001b[0m             \u001b[0marrays\u001b[0m \u001b[1;33m=\u001b[0m \u001b[1;33m[\u001b[0m\u001b[0mdata\u001b[0m\u001b[1;33m[\u001b[0m\u001b[0mk\u001b[0m\u001b[1;33m]\u001b[0m \u001b[1;32mfor\u001b[0m \u001b[0mk\u001b[0m \u001b[1;32min\u001b[0m \u001b[0mkeys\u001b[0m\u001b[1;33m]\u001b[0m\u001b[1;33m\u001b[0m\u001b[0m\n\u001b[0;32m    458\u001b[0m \u001b[1;33m\u001b[0m\u001b[0m\n\u001b[1;32m--> 459\u001b[1;33m         \u001b[1;32mreturn\u001b[0m \u001b[0m_arrays_to_mgr\u001b[0m\u001b[1;33m(\u001b[0m\u001b[0marrays\u001b[0m\u001b[1;33m,\u001b[0m \u001b[0mdata_names\u001b[0m\u001b[1;33m,\u001b[0m \u001b[0mindex\u001b[0m\u001b[1;33m,\u001b[0m \u001b[0mcolumns\u001b[0m\u001b[1;33m,\u001b[0m \u001b[0mdtype\u001b[0m\u001b[1;33m=\u001b[0m\u001b[0mdtype\u001b[0m\u001b[1;33m)\u001b[0m\u001b[1;33m\u001b[0m\u001b[0m\n\u001b[0m\u001b[0;32m    460\u001b[0m \u001b[1;33m\u001b[0m\u001b[0m\n\u001b[0;32m    461\u001b[0m     \u001b[1;32mdef\u001b[0m \u001b[0m_init_ndarray\u001b[0m\u001b[1;33m(\u001b[0m\u001b[0mself\u001b[0m\u001b[1;33m,\u001b[0m \u001b[0mvalues\u001b[0m\u001b[1;33m,\u001b[0m \u001b[0mindex\u001b[0m\u001b[1;33m,\u001b[0m \u001b[0mcolumns\u001b[0m\u001b[1;33m,\u001b[0m \u001b[0mdtype\u001b[0m\u001b[1;33m=\u001b[0m\u001b[1;32mNone\u001b[0m\u001b[1;33m,\u001b[0m \u001b[0mcopy\u001b[0m\u001b[1;33m=\u001b[0m\u001b[1;32mFalse\u001b[0m\u001b[1;33m)\u001b[0m\u001b[1;33m:\u001b[0m\u001b[1;33m\u001b[0m\u001b[0m\n",
      "\u001b[1;32mc:\\winpython_64bit\\python-3.6.5.amd64\\lib\\site-packages\\pandas\\core\\frame.py\u001b[0m in \u001b[0;36m_arrays_to_mgr\u001b[1;34m(arrays, arr_names, index, columns, dtype)\u001b[0m\n\u001b[0;32m   7354\u001b[0m     \u001b[1;31m# figure out the index, if necessary\u001b[0m\u001b[1;33m\u001b[0m\u001b[1;33m\u001b[0m\u001b[0m\n\u001b[0;32m   7355\u001b[0m     \u001b[1;32mif\u001b[0m \u001b[0mindex\u001b[0m \u001b[1;32mis\u001b[0m \u001b[1;32mNone\u001b[0m\u001b[1;33m:\u001b[0m\u001b[1;33m\u001b[0m\u001b[0m\n\u001b[1;32m-> 7356\u001b[1;33m         \u001b[0mindex\u001b[0m \u001b[1;33m=\u001b[0m \u001b[0mextract_index\u001b[0m\u001b[1;33m(\u001b[0m\u001b[0marrays\u001b[0m\u001b[1;33m)\u001b[0m\u001b[1;33m\u001b[0m\u001b[0m\n\u001b[0m\u001b[0;32m   7357\u001b[0m \u001b[1;33m\u001b[0m\u001b[0m\n\u001b[0;32m   7358\u001b[0m     \u001b[1;31m# don't force copy because getting jammed in an ndarray anyway\u001b[0m\u001b[1;33m\u001b[0m\u001b[1;33m\u001b[0m\u001b[0m\n",
      "\u001b[1;32mc:\\winpython_64bit\\python-3.6.5.amd64\\lib\\site-packages\\pandas\\core\\frame.py\u001b[0m in \u001b[0;36mextract_index\u001b[1;34m(data)\u001b[0m\n\u001b[0;32m   7400\u001b[0m             \u001b[0mlengths\u001b[0m \u001b[1;33m=\u001b[0m \u001b[0mlist\u001b[0m\u001b[1;33m(\u001b[0m\u001b[0mset\u001b[0m\u001b[1;33m(\u001b[0m\u001b[0mraw_lengths\u001b[0m\u001b[1;33m)\u001b[0m\u001b[1;33m)\u001b[0m\u001b[1;33m\u001b[0m\u001b[0m\n\u001b[0;32m   7401\u001b[0m             \u001b[1;32mif\u001b[0m \u001b[0mlen\u001b[0m\u001b[1;33m(\u001b[0m\u001b[0mlengths\u001b[0m\u001b[1;33m)\u001b[0m \u001b[1;33m>\u001b[0m \u001b[1;36m1\u001b[0m\u001b[1;33m:\u001b[0m\u001b[1;33m\u001b[0m\u001b[0m\n\u001b[1;32m-> 7402\u001b[1;33m                 \u001b[1;32mraise\u001b[0m \u001b[0mValueError\u001b[0m\u001b[1;33m(\u001b[0m\u001b[1;34m'arrays must all be same length'\u001b[0m\u001b[1;33m)\u001b[0m\u001b[1;33m\u001b[0m\u001b[0m\n\u001b[0m\u001b[0;32m   7403\u001b[0m \u001b[1;33m\u001b[0m\u001b[0m\n\u001b[0;32m   7404\u001b[0m             \u001b[1;32mif\u001b[0m \u001b[0mhave_dicts\u001b[0m\u001b[1;33m:\u001b[0m\u001b[1;33m\u001b[0m\u001b[0m\n",
      "\u001b[1;31mValueError\u001b[0m: arrays must all be same length"
     ]
    }
   ],
   "source": [
    "dict_tst = {'test_data': data_test, 'hasil_sentimen':sentimen_test}\n",
    "prediksi_test = pd.DataFrame(dict_tst)"
   ]
  }
 ],
 "metadata": {
  "kernelspec": {
   "display_name": "Python 3",
   "language": "python",
   "name": "python3"
  },
  "language_info": {
   "codemirror_mode": {
    "name": "ipython",
    "version": 3
   },
   "file_extension": ".py",
   "mimetype": "text/x-python",
   "name": "python",
   "nbconvert_exporter": "python",
   "pygments_lexer": "ipython3",
   "version": "3.6.5"
  }
 },
 "nbformat": 4,
 "nbformat_minor": 2
}
